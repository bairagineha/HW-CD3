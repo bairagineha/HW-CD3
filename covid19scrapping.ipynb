{
  "nbformat": 4,
  "nbformat_minor": 0,
  "metadata": {
    "colab": {
      "provenance": []
    },
    "kernelspec": {
      "name": "python3",
      "display_name": "Python 3"
    },
    "language_info": {
      "name": "python"
    }
  },
  "cells": [
    {
      "cell_type": "code",
      "execution_count": 1,
      "metadata": {
        "colab": {
          "base_uri": "https://localhost:8080/"
        },
        "id": "RmWm-_XsEa6H",
        "outputId": "f91284d0-43b6-486a-fd51-38ec21abf721"
      },
      "outputs": [
        {
          "output_type": "stream",
          "name": "stdout",
          "text": [
            "Data for Maharashtra:\n",
            "Date: dates\n",
            "Confirmed cases: 0\n",
            "Deceased cases: 0\n",
            "Recovered cases: 0\n",
            "Active cases: 0\n",
            "---------------------------------\n"
          ]
        }
      ],
      "source": [
        "import requests\n",
        "\n",
        "# URL of the JSON data\n",
        "url = \"https://data.covid19india.org/v4/min/timeseries.min.json\"\n",
        "\n",
        "# Send a GET request to the URL\n",
        "response = requests.get(url)\n",
        "\n",
        "# Check if the request was successful (status code 200)\n",
        "if response.status_code == 200:\n",
        "    # Extract the JSON data\n",
        "    json_data = response.json()\n",
        "\n",
        "    # Now you can work with the JSON data as needed\n",
        "    # For example, to access data for a specific state (e.g., Maharashtra)\n",
        "    maharashtra_data = json_data['MH']\n",
        "    print(\"Data for Maharashtra:\")\n",
        "\n",
        "    # Iterate through the data to extract more specific information\n",
        "    for date, data in maharashtra_data.items():\n",
        "        print(\"Date:\", date)\n",
        "        confirmed = int(data.get('total', {}).get('confirmed', 0))\n",
        "        deceased = int(data.get('total', {}).get('deceased', 0))\n",
        "        recovered = int(data.get('total', {}).get('recovered', 0))\n",
        "        active = confirmed - deceased - recovered\n",
        "        print(\"Confirmed cases:\", confirmed)\n",
        "        print(\"Deceased cases:\", deceased)\n",
        "        print(\"Recovered cases:\", recovered)\n",
        "        print(\"Active cases:\", active)\n",
        "        print(\"---------------------------------\")\n",
        "        else:\n",
        "    # Print an error message if the request was not successful\n",
        "    print(\"Failed to retrieve data. Status code:\", response.status_code)"
      ]
    }
  ]
}